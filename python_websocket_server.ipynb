{
  "nbformat": 4,
  "nbformat_minor": 0,
  "metadata": {
    "colab": {
      "provenance": []
    },
    "kernelspec": {
      "name": "python3",
      "display_name": "Python 3"
    },
    "language_info": {
      "name": "python"
    }
  },
  "cells": [
    {
      "cell_type": "markdown",
      "source": [
        "Uses websockets + soundfile/scipy to load the Tortoise WAV, resample to 8 kHz mono, convert to mu-law, and stream it back as Twilio \"media\" messages. It also echoes any incoming audio length in logs so you can verify two-way traffic."
      ],
      "metadata": {
        "id": "LjC4pw3E4HgX"
      }
    },
    {
      "cell_type": "code",
      "execution_count": null,
      "metadata": {
        "id": "7r_m0lST4C3C"
      },
      "outputs": [],
      "source": [
        "# media_ws.py\n",
        "import asyncio, json, base64, audioop, numpy as np, soundfile as sf\n",
        "from websockets.server import serve\n",
        "from scipy.signal import resample_poly  # pip install scipy websockets soundfile\n",
        "\n",
        "GREETING_WAV = \"tortoise/outputs/martin/generated-martin.wav\"  # your Tortoise file\n",
        "FRAME_MS = 20                 # ~20ms frames for smooth playback\n",
        "TWILIO_SR = 8000              # required by Twilio\n",
        "BYTES_PER_SAMPLE = 2          # 16-bit PCM prior to mu-law\n",
        "\n",
        "async def pcm16_to_mulaw_base64(pcm16: bytes) -> str:\n",
        "    # Convert linear16 -> mu-law bytes\n",
        "    mulaw = audioop.lin2ulaw(pcm16, BYTES_PER_SAMPLE)\n",
        "    return base64.b64encode(mulaw).decode(\"ascii\")\n",
        "\n",
        "def load_and_prepare_mulaw_frames(wav_path: str, frame_ms=FRAME_MS):\n",
        "    # Load your Tortoise WAV (any sr/mono/stereo), convert to 8k mono 16-bit PCM\n",
        "    data, sr = sf.read(wav_path, dtype=\"float32\", always_2d=True)\n",
        "    mono = data.mean(axis=1)  # mono\n",
        "    # Resample (polyphase is good)\n",
        "    up = TWILIO_SR; down = int(sr)\n",
        "    resampled = resample_poly(mono, up, down).astype(np.float32)\n",
        "    # Clip and scale to int16\n",
        "    resampled = np.clip(resampled, -1.0, 1.0)\n",
        "    pcm16 = (resampled * 32767.0).astype(np.int16).tobytes()\n",
        "    # Chunk into ~20ms frames @ 8k => 160 samples => 320 bytes (16-bit)\n",
        "    samples_per_frame = int(TWILIO_SR * frame_ms / 1000)\n",
        "    bytes_per_frame = samples_per_frame * BYTES_PER_SAMPLE\n",
        "    frames = [pcm16[i:i+bytes_per_frame] for i in range(0, len(pcm16), bytes_per_frame)]\n",
        "    return frames\n",
        "\n",
        "GREETING_FRAMES = load_and_prepare_mulaw_frames(GREETING_WAV)\n",
        "\n",
        "async def send_media(ws, stream_sid: str, pcm16_frame: bytes):\n",
        "    payload = await pcm16_to_mulaw_base64(pcm16_frame)\n",
        "    msg = {\n",
        "        \"event\": \"media\",\n",
        "        \"streamSid\": stream_sid,\n",
        "        \"media\": {\"payload\": payload}\n",
        "    }\n",
        "    await ws.send(json.dumps(msg))\n",
        "\n",
        "async def send_mark(ws, stream_sid: str, name: str):\n",
        "    await ws.send(json.dumps({\"event\": \"mark\", \"streamSid\": stream_sid, \"mark\": {\"name\": name}}))\n",
        "\n",
        "async def send_clear(ws, stream_sid: str):\n",
        "    await ws.send(json.dumps({\"event\": \"clear\", \"streamSid\": stream_sid}))\n",
        "\n",
        "async def handler(ws):\n",
        "    stream_sid = None\n",
        "    print(\"Client connected\")\n",
        "\n",
        "    async for raw in ws:\n",
        "        msg = json.loads(raw)\n",
        "\n",
        "        if msg.get(\"event\") == \"start\":\n",
        "            stream_sid = msg[\"start\"][\"streamSid\"]\n",
        "            call_sid = msg[\"start\"][\"callSid\"]\n",
        "            print(f\"[start] streamSid={stream_sid} callSid={call_sid}\")\n",
        "\n",
        "            # Immediately play a greeting into the call (your Tortoise audio)\n",
        "            for i, pcm16 in enumerate(GREETING_FRAMES):\n",
        "                await send_media(ws, stream_sid, pcm16)\n",
        "                await asyncio.sleep(FRAME_MS/1000.0)\n",
        "            await send_mark(ws, stream_sid, \"greeting_done\")\n",
        "\n",
        "        elif msg.get(\"event\") == \"media\":\n",
        "            # This is the caller's live audio (base64 mu-law @8k). Example: log frame size.\n",
        "            payload_b64 = msg[\"media\"][\"payload\"]\n",
        "            ulaw = base64.b64decode(payload_b64)\n",
        "            # (Optional) convert to lin16 for STT/NLP:\n",
        "            lin16 = audioop.ulaw2lin(ulaw, 2)  # 16-bit PCM\n",
        "            print(f\"[inbound media] bytes={len(ulaw)} (mulaw) / {len(lin16)} (pcm16)\")\n",
        "            # Here you could feed to STT or do echo, etc.\n",
        "\n",
        "        elif msg.get(\"event\") == \"mark\":\n",
        "            print(f\"[mark ack] {msg}\")\n",
        "\n",
        "        elif msg.get(\"event\") == \"stop\":\n",
        "            print(f\"[stop] {msg}\")\n",
        "            break\n",
        "\n",
        "    print(\"Client disconnected\")\n",
        "\n",
        "async def main():\n",
        "    async with serve(handler, \"0.0.0.0\", 8080, subprotocols=[\"twilio\"]):\n",
        "        print(\"WebSocket listening on ws://0.0.0.0:8080/media\")\n",
        "        await asyncio.Future()\n",
        "\n",
        "if __name__ == \"__main__\":\n",
        "    asyncio.run(main())\n"
      ]
    },
    {
      "cell_type": "code",
      "source": [
        "pip install flask websockets soundfile scipy\n",
        "python media_ws.py\n",
        "# in a second terminal\n",
        "python twiml_app.py\n",
        "# then expose both with ngrok (or deploy behind HTTPS wss)"
      ],
      "metadata": {
        "id": "8tqOI_lj4Nm-"
      },
      "execution_count": null,
      "outputs": []
    },
    {
      "cell_type": "code",
      "source": [
        "# make_call.py\n",
        "from twilio.rest import Client\n",
        "import os\n",
        "client = Client(os.environ[\"TWILIO_ACCOUNT_SID\"], os.environ[\"TWILIO_AUTH_TOKEN\"])\n",
        "call = client.calls.create(\n",
        "    to=\"+1XXXXXXXXXX\",\n",
        "    from_=\"+1YYYYYYYYYY\",\n",
        "    url=\"https://YOUR_PUBLIC_FLASK_HOST/voice\"  # TwiML above\n",
        ")\n",
        "print(call.sid)"
      ],
      "metadata": {
        "id": "Sd8AlYzE4TRr"
      },
      "execution_count": null,
      "outputs": []
    }
  ]
}