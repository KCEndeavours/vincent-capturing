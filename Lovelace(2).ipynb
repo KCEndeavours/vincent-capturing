{
  "cells": [
    {
      "cell_type": "markdown",
      "metadata": {
        "id": "_pIZ3ZXNp7cf"
      },
      "source": [
        "Welcome to Tortoise! 🐢🐢🐢🐢\n",
        "\n",
        "Before you begin, I **strongly** recommend you turn on a GPU runtime.\n",
        "\n",
        "There's a reason this is called \"Tortoise\" - this model takes up to a minute to perform inference for a single sentence on a GPU. Expect waits on the order of hours on a CPU."
      ]
    },
    {
      "cell_type": "code",
      "execution_count": null,
      "metadata": {
        "colab": {
          "background_save": true,
          "base_uri": "https://localhost:8080/",
          "referenced_widgets": [
            "be63ad9ad87f420fbe94b0a0ca5cefc1",
            "af94fc90d16b46a89a3c9120362002c1",
            "b4fbe3b455d24eb498783020c53ec3d4",
            "dd32e429ea094cc680ab0138573c4253",
            "de83864741414846a1910e6b4e7114c5",
            "3c5fefcefe10419f8ef158c025a1d8e2"
          ]
        },
        "id": "JrK20I32grP6",
        "outputId": "04861705-4fb9-47f1-a02d-e6bb8d8611d0"
      },
      "outputs": [
        {
          "name": "stdout",
          "output_type": "stream",
          "text": [
            "Requirement already satisfied: scipy in /usr/local/lib/python3.12/dist-packages (1.16.2)\n",
            "Requirement already satisfied: numpy<2.6,>=1.25.2 in /usr/local/lib/python3.12/dist-packages (from scipy) (2.0.2)\n",
            "[Errno 2] No such file or directory: 'tortoise-tts'\n",
            "/content\n",
            "\u001b[31mERROR: Could not open requirements file: [Errno 2] No such file or directory: 'requirements.txt'\u001b[0m\u001b[31m\n",
            "\u001b[0mCollecting transformers==4.19.0\n",
            "  Downloading transformers-4.19.0-py3-none-any.whl.metadata (73 kB)\n",
            "\u001b[2K     \u001b[90m━━━━━━━━━━━━━━━━━━━━━━━━━━━━━━━━━━━━━━━━\u001b[0m \u001b[32m73.2/73.2 kB\u001b[0m \u001b[31m2.8 MB/s\u001b[0m eta \u001b[36m0:00:00\u001b[0m\n",
            "\u001b[?25hCollecting einops==0.5.0\n",
            "  Downloading einops-0.5.0-py3-none-any.whl.metadata (11 kB)\n",
            "Collecting rotary_embedding_torch==0.1.5\n",
            "  Downloading rotary_embedding_torch-0.1.5-py3-none-any.whl.metadata (669 bytes)\n",
            "Collecting unidecode==1.3.5\n",
            "  Downloading Unidecode-1.3.5-py3-none-any.whl.metadata (13 kB)\n",
            "Requirement already satisfied: filelock in /usr/local/lib/python3.12/dist-packages (from transformers==4.19.0) (3.19.1)\n",
            "Requirement already satisfied: huggingface-hub<1.0,>=0.1.0 in /usr/local/lib/python3.12/dist-packages (from transformers==4.19.0) (0.35.0)\n",
            "Requirement already satisfied: numpy>=1.17 in /usr/local/lib/python3.12/dist-packages (from transformers==4.19.0) (2.0.2)\n",
            "Requirement already satisfied: packaging>=20.0 in /usr/local/lib/python3.12/dist-packages (from transformers==4.19.0) (25.0)\n",
            "Requirement already satisfied: pyyaml>=5.1 in /usr/local/lib/python3.12/dist-packages (from transformers==4.19.0) (6.0.2)\n",
            "Requirement already satisfied: regex!=2019.12.17 in /usr/local/lib/python3.12/dist-packages (from transformers==4.19.0) (2024.11.6)\n",
            "Requirement already satisfied: requests in /usr/local/lib/python3.12/dist-packages (from transformers==4.19.0) (2.32.4)\n",
            "Collecting tokenizers!=0.11.3,<0.13,>=0.11.1 (from transformers==4.19.0)\n",
            "  Downloading tokenizers-0.12.1.tar.gz (220 kB)\n",
            "\u001b[2K     \u001b[90m━━━━━━━━━━━━━━━━━━━━━━━━━━━━━━━━━━━━━━━\u001b[0m \u001b[32m220.7/220.7 kB\u001b[0m \u001b[31m7.8 MB/s\u001b[0m eta \u001b[36m0:00:00\u001b[0m\n",
            "\u001b[?25h  Installing build dependencies ... \u001b[?25l\u001b[?25hdone\n",
            "  Getting requirements to build wheel ... \u001b[?25l\u001b[?25hdone\n",
            "  Preparing metadata (pyproject.toml) ... \u001b[?25l\u001b[?25hdone\n",
            "Requirement already satisfied: tqdm>=4.27 in /usr/local/lib/python3.12/dist-packages (from transformers==4.19.0) (4.67.1)\n",
            "Requirement already satisfied: torch>=1.6 in /usr/local/lib/python3.12/dist-packages (from rotary_embedding_torch==0.1.5) (2.8.0+cu126)\n",
            "Requirement already satisfied: fsspec>=2023.5.0 in /usr/local/lib/python3.12/dist-packages (from huggingface-hub<1.0,>=0.1.0->transformers==4.19.0) (2025.3.0)\n",
            "Requirement already satisfied: typing-extensions>=3.7.4.3 in /usr/local/lib/python3.12/dist-packages (from huggingface-hub<1.0,>=0.1.0->transformers==4.19.0) (4.15.0)\n",
            "Requirement already satisfied: hf-xet<2.0.0,>=1.1.3 in /usr/local/lib/python3.12/dist-packages (from huggingface-hub<1.0,>=0.1.0->transformers==4.19.0) (1.1.10)\n",
            "Requirement already satisfied: setuptools in /usr/local/lib/python3.12/dist-packages (from torch>=1.6->rotary_embedding_torch==0.1.5) (75.2.0)\n",
            "Requirement already satisfied: sympy>=1.13.3 in /usr/local/lib/python3.12/dist-packages (from torch>=1.6->rotary_embedding_torch==0.1.5) (1.13.3)\n",
            "Requirement already satisfied: networkx in /usr/local/lib/python3.12/dist-packages (from torch>=1.6->rotary_embedding_torch==0.1.5) (3.5)\n",
            "Requirement already satisfied: jinja2 in /usr/local/lib/python3.12/dist-packages (from torch>=1.6->rotary_embedding_torch==0.1.5) (3.1.6)\n",
            "Requirement already satisfied: nvidia-cuda-nvrtc-cu12==12.6.77 in /usr/local/lib/python3.12/dist-packages (from torch>=1.6->rotary_embedding_torch==0.1.5) (12.6.77)\n",
            "Requirement already satisfied: nvidia-cuda-runtime-cu12==12.6.77 in /usr/local/lib/python3.12/dist-packages (from torch>=1.6->rotary_embedding_torch==0.1.5) (12.6.77)\n",
            "Requirement already satisfied: nvidia-cuda-cupti-cu12==12.6.80 in /usr/local/lib/python3.12/dist-packages (from torch>=1.6->rotary_embedding_torch==0.1.5) (12.6.80)\n",
            "Requirement already satisfied: nvidia-cudnn-cu12==9.10.2.21 in /usr/local/lib/python3.12/dist-packages (from torch>=1.6->rotary_embedding_torch==0.1.5) (9.10.2.21)\n",
            "Requirement already satisfied: nvidia-cublas-cu12==12.6.4.1 in /usr/local/lib/python3.12/dist-packages (from torch>=1.6->rotary_embedding_torch==0.1.5) (12.6.4.1)\n",
            "Requirement already satisfied: nvidia-cufft-cu12==11.3.0.4 in /usr/local/lib/python3.12/dist-packages (from torch>=1.6->rotary_embedding_torch==0.1.5) (11.3.0.4)\n",
            "Requirement already satisfied: nvidia-curand-cu12==10.3.7.77 in /usr/local/lib/python3.12/dist-packages (from torch>=1.6->rotary_embedding_torch==0.1.5) (10.3.7.77)\n",
            "Requirement already satisfied: nvidia-cusolver-cu12==11.7.1.2 in /usr/local/lib/python3.12/dist-packages (from torch>=1.6->rotary_embedding_torch==0.1.5) (11.7.1.2)\n",
            "Requirement already satisfied: nvidia-cusparse-cu12==12.5.4.2 in /usr/local/lib/python3.12/dist-packages (from torch>=1.6->rotary_embedding_torch==0.1.5) (12.5.4.2)\n",
            "Requirement already satisfied: nvidia-cusparselt-cu12==0.7.1 in /usr/local/lib/python3.12/dist-packages (from torch>=1.6->rotary_embedding_torch==0.1.5) (0.7.1)\n",
            "Requirement already satisfied: nvidia-nccl-cu12==2.27.3 in /usr/local/lib/python3.12/dist-packages (from torch>=1.6->rotary_embedding_torch==0.1.5) (2.27.3)\n",
            "Requirement already satisfied: nvidia-nvtx-cu12==12.6.77 in /usr/local/lib/python3.12/dist-packages (from torch>=1.6->rotary_embedding_torch==0.1.5) (12.6.77)\n",
            "Requirement already satisfied: nvidia-nvjitlink-cu12==12.6.85 in /usr/local/lib/python3.12/dist-packages (from torch>=1.6->rotary_embedding_torch==0.1.5) (12.6.85)\n",
            "Requirement already satisfied: nvidia-cufile-cu12==1.11.1.6 in /usr/local/lib/python3.12/dist-packages (from torch>=1.6->rotary_embedding_torch==0.1.5) (1.11.1.6)\n",
            "Requirement already satisfied: triton==3.4.0 in /usr/local/lib/python3.12/dist-packages (from torch>=1.6->rotary_embedding_torch==0.1.5) (3.4.0)\n",
            "Requirement already satisfied: charset_normalizer<4,>=2 in /usr/local/lib/python3.12/dist-packages (from requests->transformers==4.19.0) (3.4.3)\n",
            "Requirement already satisfied: idna<4,>=2.5 in /usr/local/lib/python3.12/dist-packages (from requests->transformers==4.19.0) (3.10)\n",
            "Requirement already satisfied: urllib3<3,>=1.21.1 in /usr/local/lib/python3.12/dist-packages (from requests->transformers==4.19.0) (2.5.0)\n",
            "Requirement already satisfied: certifi>=2017.4.17 in /usr/local/lib/python3.12/dist-packages (from requests->transformers==4.19.0) (2025.8.3)\n",
            "Requirement already satisfied: mpmath<1.4,>=1.1.0 in /usr/local/lib/python3.12/dist-packages (from sympy>=1.13.3->torch>=1.6->rotary_embedding_torch==0.1.5) (1.3.0)\n",
            "Requirement already satisfied: MarkupSafe>=2.0 in /usr/local/lib/python3.12/dist-packages (from jinja2->torch>=1.6->rotary_embedding_torch==0.1.5) (3.0.2)\n",
            "\u001b[33mWARNING: The candidate selected for download or install is a yanked version: 'unidecode' candidate (version 1.3.5 at https://files.pythonhosted.org/packages/7c/bb/a1cea9ce56434cdb59cb4c8b7bf91b190011b7000fb0a12b44fa0a3daa86/Unidecode-1.3.5-py3-none-any.whl (from https://pypi.org/simple/unidecode/) (requires-python:>=3.5))\n",
            "Reason for being yanked: wrong version of the code was released in the .whl package\u001b[0m\u001b[33m\n",
            "\u001b[0mDownloading transformers-4.19.0-py3-none-any.whl (4.2 MB)\n",
            "\u001b[2K   \u001b[90m━━━━━━━━━━━━━━━━━━━━━━━━━━━━━━━━━━━━━━━━\u001b[0m \u001b[32m4.2/4.2 MB\u001b[0m \u001b[31m61.6 MB/s\u001b[0m eta \u001b[36m0:00:00\u001b[0m\n",
            "\u001b[?25hDownloading einops-0.5.0-py3-none-any.whl (36 kB)\n",
            "Downloading rotary_embedding_torch-0.1.5-py3-none-any.whl (4.1 kB)\n",
            "Downloading Unidecode-1.3.5-py3-none-any.whl (236 kB)\n",
            "\u001b[2K   \u001b[90m━━━━━━━━━━━━━━━━━━━━━━━━━━━━━━━━━━━━━━━━\u001b[0m \u001b[32m236.5/236.5 kB\u001b[0m \u001b[31m21.5 MB/s\u001b[0m eta \u001b[36m0:00:00\u001b[0m\n",
            "\u001b[?25hBuilding wheels for collected packages: tokenizers\n",
            "  \u001b[1;31merror\u001b[0m: \u001b[1msubprocess-exited-with-error\u001b[0m\n",
            "  \n",
            "  \u001b[31m×\u001b[0m \u001b[32mBuilding wheel for tokenizers \u001b[0m\u001b[1;32m(\u001b[0m\u001b[32mpyproject.toml\u001b[0m\u001b[1;32m)\u001b[0m did not run successfully.\n",
            "  \u001b[31m│\u001b[0m exit code: \u001b[1;36m1\u001b[0m\n",
            "  \u001b[31m╰─>\u001b[0m See above for output.\n",
            "  \n",
            "  \u001b[1;35mnote\u001b[0m: This error originates from a subprocess, and is likely not a problem with pip.\n",
            "  Building wheel for tokenizers (pyproject.toml) ... \u001b[?25l\u001b[?25herror\n",
            "\u001b[31m  ERROR: Failed building wheel for tokenizers\u001b[0m\u001b[31m\n",
            "\u001b[0mFailed to build tokenizers\n",
            "\u001b[31mERROR: ERROR: Failed to build installable wheels for some pyproject.toml based projects (tokenizers)\u001b[0m\u001b[31m\n",
            "\u001b[0mpython3: can't open file '/content/setup.py': [Errno 2] No such file or directory\n",
            "\u001b[2K     \u001b[90m━━━━━━━━━━━━━━━━━━━━━━━━━━━━━━━━━━━━━━━━\u001b[0m \u001b[32m40.1/40.1 kB\u001b[0m \u001b[31m2.7 MB/s\u001b[0m eta \u001b[36m0:00:00\u001b[0m\n",
            "\u001b[2K     \u001b[90m━━━━━━━━━━━━━━━━━━━━━━━━━━━━━━━━━━━━━━━━\u001b[0m \u001b[32m42.2/42.2 kB\u001b[0m \u001b[31m3.1 MB/s\u001b[0m eta \u001b[36m0:00:00\u001b[0m\n",
            "\u001b[2K     \u001b[90m━━━━━━━━━━━━━━━━━━━━━━━━━━━━━━━━━━━━━━━━\u001b[0m \u001b[32m40.1/40.1 kB\u001b[0m \u001b[31m3.4 MB/s\u001b[0m eta \u001b[36m0:00:00\u001b[0m\n",
            "\u001b[2K     \u001b[90m━━━━━━━━━━━━━━━━━━━━━━━━━━━━━━━━━━━━━━━━\u001b[0m \u001b[32m42.0/42.0 kB\u001b[0m \u001b[31m3.7 MB/s\u001b[0m eta \u001b[36m0:00:00\u001b[0m\n",
            "\u001b[2K     \u001b[90m━━━━━━━━━━━━━━━━━━━━━━━━━━━━━━━━━━━━━━━━\u001b[0m \u001b[32m42.0/42.0 kB\u001b[0m \u001b[31m3.6 MB/s\u001b[0m eta \u001b[36m0:00:00\u001b[0m\n",
            "\u001b[2K     \u001b[90m━━━━━━━━━━━━━━━━━━━━━━━━━━━━━━━━━━━━━━━━\u001b[0m \u001b[32m42.0/42.0 kB\u001b[0m \u001b[31m3.6 MB/s\u001b[0m eta \u001b[36m0:00:00\u001b[0m\n",
            "\u001b[2K     \u001b[90m━━━━━━━━━━━━━━━━━━━━━━━━━━━━━━━━━━━━━━━━\u001b[0m \u001b[32m42.0/42.0 kB\u001b[0m \u001b[31m3.7 MB/s\u001b[0m eta \u001b[36m0:00:00\u001b[0m\n",
            "\u001b[2K     \u001b[90m━━━━━━━━━━━━━━━━━━━━━━━━━━━━━━━━━━━━━━━━\u001b[0m \u001b[32m41.7/41.7 kB\u001b[0m \u001b[31m3.6 MB/s\u001b[0m eta \u001b[36m0:00:00\u001b[0m\n",
            "\u001b[2K     \u001b[90m━━━━━━━━━━━━━━━━━━━━━━━━━━━━━━━━━━━━━━━━\u001b[0m \u001b[32m41.7/41.7 kB\u001b[0m \u001b[31m3.5 MB/s\u001b[0m eta \u001b[36m0:00:00\u001b[0m\n",
            "\u001b[2K     \u001b[90m━━━━━━━━━━━━━━━━━━━━━━━━━━━━━━━━━━━━━━━━\u001b[0m \u001b[32m40.9/40.9 kB\u001b[0m \u001b[31m3.5 MB/s\u001b[0m eta \u001b[36m0:00:00\u001b[0m\n",
            "\u001b[2K     \u001b[90m━━━━━━━━━━━━━━━━━━━━━━━━━━━━━━━━━━━━━━━━\u001b[0m \u001b[32m40.9/40.9 kB\u001b[0m \u001b[31m3.1 MB/s\u001b[0m eta \u001b[36m0:00:00\u001b[0m\n",
            "\u001b[2K     \u001b[90m━━━━━━━━━━━━━━━━━━━━━━━━━━━━━━━━━━━━━━━━\u001b[0m \u001b[32m40.9/40.9 kB\u001b[0m \u001b[31m3.2 MB/s\u001b[0m eta \u001b[36m0:00:00\u001b[0m\n",
            "\u001b[2K     \u001b[90m━━━━━━━━━━━━━━━━━━━━━━━━━━━━━━━━━━━━━━━━\u001b[0m \u001b[32m40.2/40.2 kB\u001b[0m \u001b[31m3.7 MB/s\u001b[0m eta \u001b[36m0:00:00\u001b[0m\n",
            "\u001b[2K     \u001b[90m━━━━━━━━━━━━━━━━━━━━━━━━━━━━━━━━━━━━━━━━\u001b[0m \u001b[32m40.2/40.2 kB\u001b[0m \u001b[31m3.5 MB/s\u001b[0m eta \u001b[36m0:00:00\u001b[0m\n",
            "\u001b[2K     \u001b[90m━━━━━━━━━━━━━━━━━━━━━━━━━━━━━━━━━━━━━━━━\u001b[0m \u001b[32m44.0/44.0 kB\u001b[0m \u001b[31m2.9 MB/s\u001b[0m eta \u001b[36m0:00:00\u001b[0m\n",
            "\u001b[2K     \u001b[90m━━━━━━━━━━━━━━━━━━━━━━━━━━━━━━━━━━━━━━━━\u001b[0m \u001b[32m44.4/44.4 kB\u001b[0m \u001b[31m3.7 MB/s\u001b[0m eta \u001b[36m0:00:00\u001b[0m\n",
            "\u001b[2K     \u001b[90m━━━━━━━━━━━━━━━━━━━━━━━━━━━━━━━━━━━━━━━━\u001b[0m \u001b[32m44.4/44.4 kB\u001b[0m \u001b[31m3.7 MB/s\u001b[0m eta \u001b[36m0:00:00\u001b[0m\n",
            "\u001b[2K     \u001b[90m━━━━━━━━━━━━━━━━━━━━━━━━━━━━━━━━━━━━━━━━\u001b[0m \u001b[32m44.4/44.4 kB\u001b[0m \u001b[31m3.9 MB/s\u001b[0m eta \u001b[36m0:00:00\u001b[0m\n",
            "\u001b[2K     \u001b[90m━━━━━━━━━━━━━━━━━━━━━━━━━━━━━━━━━━━━━━━━\u001b[0m \u001b[32m44.4/44.4 kB\u001b[0m \u001b[31m4.0 MB/s\u001b[0m eta \u001b[36m0:00:00\u001b[0m\n",
            "\u001b[2K     \u001b[90m━━━━━━━━━━━━━━━━━━━━━━━━━━━━━━━━━━━━━━━━\u001b[0m \u001b[32m44.1/44.1 kB\u001b[0m \u001b[31m3.6 MB/s\u001b[0m eta \u001b[36m0:00:00\u001b[0m\n",
            "\u001b[2K     \u001b[90m━━━━━━━━━━━━━━━━━━━━━━━━━━━━━━━━━━━━━━━━\u001b[0m \u001b[32m43.5/43.5 kB\u001b[0m \u001b[31m3.3 MB/s\u001b[0m eta \u001b[36m0:00:00\u001b[0m\n",
            "\u001b[2K     \u001b[90m━━━━━━━━━━━━━━━━━━━━━━━━━━━━━━━━━━━━━━━━\u001b[0m \u001b[32m44.1/44.1 kB\u001b[0m \u001b[31m3.7 MB/s\u001b[0m eta \u001b[36m0:00:00\u001b[0m\n",
            "\u001b[2K     \u001b[90m━━━━━━━━━━━━━━━━━━━━━━━━━━━━━━━━━━━━━━━━\u001b[0m \u001b[32m44.1/44.1 kB\u001b[0m \u001b[31m3.8 MB/s\u001b[0m eta \u001b[36m0:00:00\u001b[0m\n",
            "\u001b[2K     \u001b[90m━━━━━━━━━━━━━━━━━━━━━━━━━━━━━━━━━━━━━━━━\u001b[0m \u001b[32m44.1/44.1 kB\u001b[0m \u001b[31m2.8 MB/s\u001b[0m eta \u001b[36m0:00:00\u001b[0m\n",
            "\u001b[2K     \u001b[90m━━━━━━━━━━━━━━━━━━━━━━━━━━━━━━━━━━━━━━━━\u001b[0m \u001b[32m44.4/44.4 kB\u001b[0m \u001b[31m4.0 MB/s\u001b[0m eta \u001b[36m0:00:00\u001b[0m\n",
            "\u001b[2K     \u001b[90m━━━━━━━━━━━━━━━━━━━━━━━━━━━━━━━━━━━━━━━━\u001b[0m \u001b[32m44.4/44.4 kB\u001b[0m \u001b[31m3.6 MB/s\u001b[0m eta \u001b[36m0:00:00\u001b[0m\n",
            "\u001b[2K     \u001b[90m━━━━━━━━━━━━━━━━━━━━━━━━━━━━━━━━━━━━━━━━\u001b[0m \u001b[32m44.4/44.4 kB\u001b[0m \u001b[31m2.7 MB/s\u001b[0m eta \u001b[36m0:00:00\u001b[0m\n",
            "\u001b[2K     \u001b[90m━━━━━━━━━━━━━━━━━━━━━━━━━━━━━━━━━━━━━━━━\u001b[0m \u001b[32m43.7/43.7 kB\u001b[0m \u001b[31m3.4 MB/s\u001b[0m eta \u001b[36m0:00:00\u001b[0m\n",
            "\u001b[2K   \u001b[90m━━━━━━━━━━━━━━━━━━━━━━━━━━━━━━━━━━━━━━━━\u001b[0m \u001b[32m9.5/9.5 MB\u001b[0m \u001b[31m83.9 MB/s\u001b[0m eta \u001b[36m0:00:00\u001b[0m\n",
            "\u001b[2K   \u001b[90m━━━━━━━━━━━━━━━━━━━━━━━━━━━━━━━━━━━━━━━━\u001b[0m \u001b[32m3.6/3.6 MB\u001b[0m \u001b[31m124.4 MB/s\u001b[0m eta \u001b[36m0:00:00\u001b[0m\n",
            "\u001b[?25hCloning into 'tortoise-tts'...\n",
            "remote: Enumerating objects: 598, done.\u001b[K\n",
            "remote: Counting objects: 100% (598/598), done.\u001b[K\n",
            "remote: Compressing objects: 100% (596/596), done.\u001b[K\n",
            "remote: Total 598 (delta 0), reused 568 (delta 0), pack-reused 0 (from 0)\u001b[K\n",
            "Receiving objects: 100% (598/598), 50.41 MiB | 39.10 MiB/s, done.\n",
            "/content/tortoise-tts\n",
            "  Preparing metadata (setup.py) ... \u001b[?25l\u001b[?25hdone\n",
            "\u001b[2K     \u001b[90m━━━━━━━━━━━━━━━━━━━━━━━━━━━━━━━━━━━━━━━━\u001b[0m \u001b[32m2.0/2.0 MB\u001b[0m \u001b[31m23.3 MB/s\u001b[0m eta \u001b[36m0:00:00\u001b[0m\n",
            "\u001b[?25h  Preparing metadata (setup.py) ... \u001b[?25l\u001b[?25hdone\n",
            "  Preparing metadata (setup.py) ... \u001b[?25l\u001b[?25hdone\n",
            "\u001b[2K     \u001b[90m━━━━━━━━━━━━━━━━━━━━━━━━━━━━━━━━━━━━━━\u001b[0m \u001b[32m110.8/110.8 kB\u001b[0m \u001b[31m10.0 MB/s\u001b[0m eta \u001b[36m0:00:00\u001b[0m\n",
            "\u001b[?25h  Preparing metadata (setup.py) ... \u001b[?25l\u001b[?25hdone\n",
            "\u001b[31mERROR: Cannot install -r requirements.txt (line 10) and numba==0.48.0 because these package versions have conflicting dependencies.\u001b[0m\u001b[31m\n",
            "\u001b[0m\u001b[31mERROR: ResolutionImpossible: for help visit https://pip.pypa.io/en/latest/topics/dependency-resolution/#dealing-with-dependency-conflicts\u001b[0m\u001b[31m\n",
            "\u001b[0m\u001b[33mWARNING: The candidate selected for download or install is a yanked version: 'unidecode' candidate (version 1.3.5 at https://files.pythonhosted.org/packages/7c/bb/a1cea9ce56434cdb59cb4c8b7bf91b190011b7000fb0a12b44fa0a3daa86/Unidecode-1.3.5-py3-none-any.whl (from https://pypi.org/simple/unidecode/) (requires-python:>=3.5))\n",
            "Reason for being yanked: wrong version of the code was released in the .whl package\u001b[0m\u001b[33m\n",
            "\u001b[0m/bin/bash: line 1: warning: here-document at line 1 delimited by end-of-file (wanted `PY')\n",
            "Patched tortoise/utils/typical_sampling.py\n",
            "  Preparing metadata (setup.py) ... \u001b[?25l\u001b[?25hdone\n",
            "  Preparing metadata (setup.py) ... \u001b[?25l\u001b[?25hdone\n",
            "  Building wheel for progressbar (setup.py) ... \u001b[?25l\u001b[?25hdone\n",
            "/bin/bash: line 1: warning: here-document at line 1 delimited by end-of-file (wanted `PY')\n",
            "[OK] tortoise import\n"
          ]
        },
        {
          "name": "stderr",
          "output_type": "stream",
          "text": [
            "/usr/local/lib/python3.12/dist-packages/huggingface_hub/utils/_auth.py:104: UserWarning: \n",
            "Error while fetching `HF_TOKEN` secret value from your vault: 'Requesting secret HF_TOKEN timed out. Secrets can only be fetched when running from the Colab UI.'.\n",
            "You are not authenticated with the Hugging Face Hub in this notebook.\n",
            "If the error persists, please let us know by opening an issue on GitHub (https://github.com/huggingface/huggingface_hub/issues/new).\n",
            "  warnings.warn(\n"
          ]
        },
        {
          "data": {
            "application/vnd.jupyter.widget-view+json": {
              "model_id": "be63ad9ad87f420fbe94b0a0ca5cefc1",
              "version_major": 2,
              "version_minor": 0
            },
            "text/plain": [
              "config.json: 0.00B [00:00, ?B/s]"
            ]
          },
          "metadata": {},
          "output_type": "display_data"
        },
        {
          "data": {
            "application/vnd.jupyter.widget-view+json": {
              "model_id": "af94fc90d16b46a89a3c9120362002c1",
              "version_major": 2,
              "version_minor": 0
            },
            "text/plain": [
              "pytorch_model.bin:   0%|          | 0.00/1.26G [00:00<?, ?B/s]"
            ]
          },
          "metadata": {},
          "output_type": "display_data"
        },
        {
          "name": "stderr",
          "output_type": "stream",
          "text": [
            "Some weights of the model checkpoint at jbetker/wav2vec2-large-robust-ft-libritts-voxpopuli were not used when initializing Wav2Vec2ForCTC: ['wav2vec2.encoder.pos_conv_embed.conv.weight_g', 'wav2vec2.encoder.pos_conv_embed.conv.weight_v']\n",
            "- This IS expected if you are initializing Wav2Vec2ForCTC from the checkpoint of a model trained on another task or with another architecture (e.g. initializing a BertForSequenceClassification model from a BertForPreTraining model).\n",
            "- This IS NOT expected if you are initializing Wav2Vec2ForCTC from the checkpoint of a model that you expect to be exactly identical (initializing a BertForSequenceClassification model from a BertForSequenceClassification model).\n",
            "Some weights of Wav2Vec2ForCTC were not initialized from the model checkpoint at jbetker/wav2vec2-large-robust-ft-libritts-voxpopuli and are newly initialized: ['wav2vec2.encoder.pos_conv_embed.conv.parametrizations.weight.original0', 'wav2vec2.encoder.pos_conv_embed.conv.parametrizations.weight.original1']\n",
            "You should probably TRAIN this model on a down-stream task to be able to use it for predictions and inference.\n"
          ]
        },
        {
          "data": {
            "application/vnd.jupyter.widget-view+json": {
              "model_id": "b4fbe3b455d24eb498783020c53ec3d4",
              "version_major": 2,
              "version_minor": 0
            },
            "text/plain": [
              "preprocessor_config.json:   0%|          | 0.00/159 [00:00<?, ?B/s]"
            ]
          },
          "metadata": {},
          "output_type": "display_data"
        },
        {
          "data": {
            "application/vnd.jupyter.widget-view+json": {
              "model_id": "dd32e429ea094cc680ab0138573c4253",
              "version_major": 2,
              "version_minor": 0
            },
            "text/plain": [
              "tokenizer_config.json:   0%|          | 0.00/181 [00:00<?, ?B/s]"
            ]
          },
          "metadata": {},
          "output_type": "display_data"
        },
        {
          "data": {
            "application/vnd.jupyter.widget-view+json": {
              "model_id": "de83864741414846a1910e6b4e7114c5",
              "version_major": 2,
              "version_minor": 0
            },
            "text/plain": [
              "vocab.json: 0.00B [00:00, ?B/s]"
            ]
          },
          "metadata": {},
          "output_type": "display_data"
        },
        {
          "data": {
            "application/vnd.jupyter.widget-view+json": {
              "model_id": "3c5fefcefe10419f8ef158c025a1d8e2",
              "version_major": 2,
              "version_minor": 0
            },
            "text/plain": [
              "special_tokens_map.json:   0%|          | 0.00/85.0 [00:00<?, ?B/s]"
            ]
          },
          "metadata": {},
          "output_type": "display_data"
        },
        {
          "name": "stderr",
          "output_type": "stream",
          "text": [
            "/usr/local/lib/python3.12/dist-packages/transformers/tokenization_utils_base.py:1601: FutureWarning: `clean_up_tokenization_spaces` was not set. It will be set to `True` by default. This behavior will be depracted in transformers v4.45, and will be then set to `False` by default. For more details check this issue: https://github.com/huggingface/transformers/issues/31884\n",
            "  warnings.warn(\n"
          ]
        },
        {
          "name": "stdout",
          "output_type": "stream",
          "text": [
            "Downloading autoregressive.pth from https://huggingface.co/jbetker/tortoise-tts-v2/resolve/main/.models/autoregressive.pth...\n"
          ]
        },
        {
          "name": "stderr",
          "output_type": "stream",
          "text": [
            "\n"
          ]
        },
        {
          "name": "stdout",
          "output_type": "stream",
          "text": [
            "Done.\n",
            "Downloading classifier.pth from https://huggingface.co/jbetker/tortoise-tts-v2/resolve/main/.models/classifier.pth...\n"
          ]
        },
        {
          "name": "stderr",
          "output_type": "stream",
          "text": [
            "\n"
          ]
        },
        {
          "name": "stdout",
          "output_type": "stream",
          "text": [
            "Done.\n",
            "Downloading clvp2.pth from https://huggingface.co/jbetker/tortoise-tts-v2/resolve/main/.models/clvp2.pth...\n"
          ]
        },
        {
          "name": "stderr",
          "output_type": "stream",
          "text": [
            "\n"
          ]
        },
        {
          "name": "stdout",
          "output_type": "stream",
          "text": [
            "Done.\n",
            "Downloading cvvp.pth from https://huggingface.co/jbetker/tortoise-tts-v2/resolve/main/.models/cvvp.pth...\n"
          ]
        },
        {
          "name": "stderr",
          "output_type": "stream",
          "text": [
            "\n"
          ]
        },
        {
          "name": "stdout",
          "output_type": "stream",
          "text": [
            "Done.\n",
            "Downloading diffusion_decoder.pth from https://huggingface.co/jbetker/tortoise-tts-v2/resolve/main/.models/diffusion_decoder.pth...\n"
          ]
        },
        {
          "name": "stderr",
          "output_type": "stream",
          "text": [
            "\n"
          ]
        },
        {
          "name": "stdout",
          "output_type": "stream",
          "text": [
            "Done.\n",
            "Downloading vocoder.pth from https://huggingface.co/jbetker/tortoise-tts-v2/resolve/main/.models/vocoder.pth...\n"
          ]
        },
        {
          "name": "stderr",
          "output_type": "stream",
          "text": [
            "\n"
          ]
        },
        {
          "name": "stdout",
          "output_type": "stream",
          "text": [
            "Done.\n",
            "Downloading rlg_auto.pth from https://huggingface.co/jbetker/tortoise-tts-v2/resolve/main/.models/rlg_auto.pth...\n"
          ]
        },
        {
          "name": "stderr",
          "output_type": "stream",
          "text": [
            "\n"
          ]
        },
        {
          "name": "stdout",
          "output_type": "stream",
          "text": [
            "Done.\n",
            "Downloading rlg_diffuser.pth from https://huggingface.co/jbetker/tortoise-tts-v2/resolve/main/.models/rlg_diffuser.pth...\n"
          ]
        },
        {
          "name": "stderr",
          "output_type": "stream",
          "text": [
            "\n"
          ]
        },
        {
          "name": "stdout",
          "output_type": "stream",
          "text": [
            "Done.\n"
          ]
        },
        {
          "ename": "RuntimeError",
          "evalue": "Error(s) in loading state_dict for UnifiedVoice:\n\tUnexpected key(s) in state_dict: \"gpt.h.0.attn.bias\", \"gpt.h.0.attn.masked_bias\", \"gpt.h.1.attn.bias\", \"gpt.h.1.attn.masked_bias\", \"gpt.h.2.attn.bias\", \"gpt.h.2.attn.masked_bias\", \"gpt.h.3.attn.bias\", \"gpt.h.3.attn.masked_bias\", \"gpt.h.4.attn.bias\", \"gpt.h.4.attn.masked_bias\", \"gpt.h.5.attn.bias\", \"gpt.h.5.attn.masked_bias\", \"gpt.h.6.attn.bias\", \"gpt.h.6.attn.masked_bias\", \"gpt.h.7.attn.bias\", \"gpt.h.7.attn.masked_bias\", \"gpt.h.8.attn.bias\", \"gpt.h.8.attn.masked_bias\", \"gpt.h.9.attn.bias\", \"gpt.h.9.attn.masked_bias\", \"gpt.h.10.attn.bias\", \"gpt.h.10.attn.masked_bias\", \"gpt.h.11.attn.bias\", \"gpt.h.11.attn.masked_bias\", \"gpt.h.12.attn.bias\", \"gpt.h.12.attn.masked_bias\", \"gpt.h.13.attn.bias\", \"gpt.h.13.attn.masked_bias\", \"gpt.h.14.attn.bias\", \"gpt.h.14.attn.masked_bias\", \"gpt.h.15.attn.bias\", \"gpt.h.15.attn.masked_bias\", \"gpt.h.16.attn.bias\", \"gpt.h.16.attn.masked_bias\", \"gpt.h.17.attn.bias\", \"gpt.h.17.attn.masked_bias\", \"gpt.h.18.attn.bias\", \"gpt.h.18.attn.masked_bias\", \"gpt.h.19.attn.bias\", \"gpt.h.19.attn.masked_bias\", \"gpt.h.20.attn.bias\", \"gpt.h.20.attn.masked_bias\", \"gpt.h.21.attn.bias\", \"gpt.h.21.attn.masked_bias\", \"gpt.h.22.attn.bias\", \"gpt.h.22.attn.masked_bias\", \"gpt.h.23.attn.bias\", \"gpt.h.23.attn.masked_bias\", \"gpt.h.24.attn.bias\", \"gpt.h.24.attn.masked_bias\", \"gpt.h.25.attn.bias\", \"gpt.h.25.attn.masked_bias\", \"gpt.h.26.attn.bias\", \"gpt.h.26.attn.masked_bias\", \"gpt.h.27.attn.bias\", \"gpt.h.27.attn.masked_bias\", \"gpt.h.28.attn.bias\", \"gpt.h.28.attn.masked_bias\", \"gpt.h.29.attn.bias\", \"gpt.h.29.attn.masked_bias\". ",
          "output_type": "error",
          "traceback": [
            "\u001b[0;31m---------------------------------------------------------------------------\u001b[0m",
            "\u001b[0;31mRuntimeError\u001b[0m                              Traceback (most recent call last)",
            "\u001b[0;32m/tmp/ipython-input-2510719978.py\u001b[0m in \u001b[0;36m<cell line: 0>\u001b[0;34m()\u001b[0m\n\u001b[1;32m     58\u001b[0m \u001b[0;32mfrom\u001b[0m \u001b[0mtortoise\u001b[0m\u001b[0;34m.\u001b[0m\u001b[0mapi\u001b[0m \u001b[0;32mimport\u001b[0m \u001b[0mTextToSpeech\u001b[0m\u001b[0;34m\u001b[0m\u001b[0;34m\u001b[0m\u001b[0m\n\u001b[1;32m     59\u001b[0m \u001b[0mprint\u001b[0m\u001b[0;34m(\u001b[0m\u001b[0;34m\"[OK] tortoise import\"\u001b[0m\u001b[0;34m)\u001b[0m\u001b[0;34m\u001b[0m\u001b[0;34m\u001b[0m\u001b[0m\n\u001b[0;32m---> 60\u001b[0;31m \u001b[0mtts\u001b[0m \u001b[0;34m=\u001b[0m \u001b[0mTextToSpeech\u001b[0m\u001b[0;34m(\u001b[0m\u001b[0;34m)\u001b[0m\u001b[0;34m\u001b[0m\u001b[0;34m\u001b[0m\u001b[0m\n\u001b[0m\u001b[1;32m     61\u001b[0m \u001b[0mprint\u001b[0m\u001b[0;34m(\u001b[0m\u001b[0;34m\"[OK] Tortoise TextToSpeech ready\"\u001b[0m\u001b[0;34m)\u001b[0m\u001b[0;34m\u001b[0m\u001b[0;34m\u001b[0m\u001b[0m\n",
            "\u001b[0;32m/content/tortoise-tts/tortoise/api.py\u001b[0m in \u001b[0;36m__init__\u001b[0;34m(self, autoregressive_batch_size, models_dir, enable_redaction)\u001b[0m\n\u001b[1;32m    194\u001b[0m                                           \u001b[0mheads\u001b[0m\u001b[0;34m=\u001b[0m\u001b[0;36m16\u001b[0m\u001b[0;34m,\u001b[0m \u001b[0mnumber_text_tokens\u001b[0m\u001b[0;34m=\u001b[0m\u001b[0;36m255\u001b[0m\u001b[0;34m,\u001b[0m \u001b[0mstart_text_token\u001b[0m\u001b[0;34m=\u001b[0m\u001b[0;36m255\u001b[0m\u001b[0;34m,\u001b[0m \u001b[0mcheckpointing\u001b[0m\u001b[0;34m=\u001b[0m\u001b[0;32mFalse\u001b[0m\u001b[0;34m,\u001b[0m\u001b[0;34m\u001b[0m\u001b[0;34m\u001b[0m\u001b[0m\n\u001b[1;32m    195\u001b[0m                                           train_solo_embeddings=False).cpu().eval()\n\u001b[0;32m--> 196\u001b[0;31m             \u001b[0mself\u001b[0m\u001b[0;34m.\u001b[0m\u001b[0mautoregressive\u001b[0m\u001b[0;34m.\u001b[0m\u001b[0mload_state_dict\u001b[0m\u001b[0;34m(\u001b[0m\u001b[0mtorch\u001b[0m\u001b[0;34m.\u001b[0m\u001b[0mload\u001b[0m\u001b[0;34m(\u001b[0m\u001b[0;34mf'{models_dir}/autoregressive.pth'\u001b[0m\u001b[0;34m)\u001b[0m\u001b[0;34m)\u001b[0m\u001b[0;34m\u001b[0m\u001b[0;34m\u001b[0m\u001b[0m\n\u001b[0m\u001b[1;32m    197\u001b[0m \u001b[0;34m\u001b[0m\u001b[0m\n\u001b[1;32m    198\u001b[0m             self.diffusion = DiffusionTts(model_channels=1024, num_layers=10, in_channels=100, out_channels=200,\n",
            "\u001b[0;32m/usr/local/lib/python3.12/dist-packages/torch/nn/modules/module.py\u001b[0m in \u001b[0;36mload_state_dict\u001b[0;34m(self, state_dict, strict, assign)\u001b[0m\n\u001b[1;32m   2622\u001b[0m \u001b[0;34m\u001b[0m\u001b[0m\n\u001b[1;32m   2623\u001b[0m         \u001b[0;32mif\u001b[0m \u001b[0mlen\u001b[0m\u001b[0;34m(\u001b[0m\u001b[0merror_msgs\u001b[0m\u001b[0;34m)\u001b[0m \u001b[0;34m>\u001b[0m \u001b[0;36m0\u001b[0m\u001b[0;34m:\u001b[0m\u001b[0;34m\u001b[0m\u001b[0;34m\u001b[0m\u001b[0m\n\u001b[0;32m-> 2624\u001b[0;31m             raise RuntimeError(\n\u001b[0m\u001b[1;32m   2625\u001b[0m                 \"Error(s) in loading state_dict for {}:\\n\\t{}\".format(\n\u001b[1;32m   2626\u001b[0m                     \u001b[0mself\u001b[0m\u001b[0;34m.\u001b[0m\u001b[0m__class__\u001b[0m\u001b[0;34m.\u001b[0m\u001b[0m__name__\u001b[0m\u001b[0;34m,\u001b[0m \u001b[0;34m\"\\n\\t\"\u001b[0m\u001b[0;34m.\u001b[0m\u001b[0mjoin\u001b[0m\u001b[0;34m(\u001b[0m\u001b[0merror_msgs\u001b[0m\u001b[0;34m)\u001b[0m\u001b[0;34m\u001b[0m\u001b[0;34m\u001b[0m\u001b[0m\n",
            "\u001b[0;31mRuntimeError\u001b[0m: Error(s) in loading state_dict for UnifiedVoice:\n\tUnexpected key(s) in state_dict: \"gpt.h.0.attn.bias\", \"gpt.h.0.attn.masked_bias\", \"gpt.h.1.attn.bias\", \"gpt.h.1.attn.masked_bias\", \"gpt.h.2.attn.bias\", \"gpt.h.2.attn.masked_bias\", \"gpt.h.3.attn.bias\", \"gpt.h.3.attn.masked_bias\", \"gpt.h.4.attn.bias\", \"gpt.h.4.attn.masked_bias\", \"gpt.h.5.attn.bias\", \"gpt.h.5.attn.masked_bias\", \"gpt.h.6.attn.bias\", \"gpt.h.6.attn.masked_bias\", \"gpt.h.7.attn.bias\", \"gpt.h.7.attn.masked_bias\", \"gpt.h.8.attn.bias\", \"gpt.h.8.attn.masked_bias\", \"gpt.h.9.attn.bias\", \"gpt.h.9.attn.masked_bias\", \"gpt.h.10.attn.bias\", \"gpt.h.10.attn.masked_bias\", \"gpt.h.11.attn.bias\", \"gpt.h.11.attn.masked_bias\", \"gpt.h.12.attn.bias\", \"gpt.h.12.attn.masked_bias\", \"gpt.h.13.attn.bias\", \"gpt.h.13.attn.masked_bias\", \"gpt.h.14.attn.bias\", \"gpt.h.14.attn.masked_bias\", \"gpt.h.15.attn.bias\", \"gpt.h.15.attn.masked_bias\", \"gpt.h.16.attn.bias\", \"gpt.h.16.attn.masked_bias\", \"gpt.h.17.attn.bias\", \"gpt.h.17.attn.masked_bias\", \"gpt.h.18.attn.bias\", \"gpt.h.18.attn.masked_bias\", \"gpt.h.19.attn.bias\", \"gpt.h.19.attn.masked_bias\", \"gpt.h.20.attn.bias\", \"gpt.h.20.attn.masked_bias\", \"gpt.h.21.attn.bias\", \"gpt.h.21.attn.masked_bias\", \"gpt.h.22.attn.bias\", \"gpt.h.22.attn.masked_bias\", \"gpt.h.23.attn.bias\", \"gpt.h.23.attn.masked_bias\", \"gpt.h.24.attn.bias\", \"gpt.h.24.attn.masked_bias\", \"gpt.h.25.attn.bias\", \"gpt.h.25.attn.masked_bias\", \"gpt.h.26.attn.bias\", \"gpt.h.26.attn.masked_bias\", \"gpt.h.27.attn.bias\", \"gpt.h.27.attn.masked_bias\", \"gpt.h.28.attn.bias\", \"gpt.h.28.attn.masked_bias\", \"gpt.h.29.attn.bias\", \"gpt.h.29.attn.masked_bias\". "
          ]
        }
      ],
      "source": [
        "\n",
        "#====THIS BLOCK ERRORS OUT RUN THIS BLOCK ONCE THEN RERUN BLOCKS AFTER THIS BLOCK#\n",
        "# the scipy version packaged with colab is not tolerant of misformated WAV files.\n",
        "# install the latest version.\n",
        "!pip3 install -U scipy\n",
        "\n",
        "%cd tortoise-tts\n",
        "!pip3 install -r requirements.txt\n",
        "!pip3 install transformers==4.19.0 einops==0.5.0 rotary_embedding_torch==0.1.5 unidecode==1.3.5\n",
        "!python3 setup.py install\n",
        "\n",
        "# the scipy version packaged with colab is not tolerant of misformated WAV files.\n",
        "# install the latest version.\n",
        "!pip3 install -U -q \"scipy>=1.11\" \"soundfile>=0.12\"\n",
        "\n",
        "# HF stack compatible with Tortoise (works on Colab Py3.12)\n",
        "!pip install -U -q \"transformers<5,>=4.28\" \"tokenizers<0.20\" \"sentencepiece>=0.1.99\"\n",
        "\n",
        "# Clone your chosen fork (jnordberg)\n",
        "!git clone --depth 1 https://github.com/jnordberg/tortoise-tts.git\n",
        "%cd tortoise-tts\n",
        "\n",
        "# Constrain librosa/resampy so pip won't backtrack to 0.9.x (which pulls numba/llvmlite)\n",
        "!printf \"librosa>=0.10,<0.11\\nresampy>=0.4.3\\n\" > /tmp/tortoise_constraints.txt\n",
        "\n",
        "# Install requirements under constraints + extras\n",
        "!pip3 install -q -r requirements.txt -c /tmp/tortoise_constraints.txt\n",
        "!pip3 install -q einops==0.5.0 rotary_embedding_torch==0.1.5 unidecode==1.3.5\n",
        "\n",
        "# Patch LogitsWarper import robustly (both markers are within the same shell command)\n",
        "!cat <<'PY' > /tmp/patch_typical_sampling.py\n",
        "from pathlib import Path\n",
        "import re\n",
        "p = Path(\"tortoise/utils/typical_sampling.py\")\n",
        "s = p.read_text(encoding=\"utf-8\")\n",
        "patched = re.sub(\n",
        "    r\"^\\s*from\\s+transformers\\s+import\\s+LogitsWarper\\s*$\",\n",
        "    \"try:\\\\n    from transformers import LogitsWarper\\\\n\"\n",
        "    \"except Exception:\\\\n\"\n",
        "    \"    try:\\\\n\"\n",
        "    \"        from transformers.generation.logits_process import LogitsWarper\\\\n\"\n",
        "    \"    except Exception:\\\\n\"\n",
        "    \"        class LogitsWarper:\\\\n\"\n",
        "    \"            def __call__(self, input_ids, scores):\\\\n\"\n",
        "    \"                raise NotImplementedError('LogitsWarper unavailable in this transformers build.')\",\n",
        "    s, flags=re.MULTILINE)\n",
        "if patched != s:\n",
        "    p.write_text(patched, encoding=\"utf-8\")\n",
        "    print(f\"Patched {p}\")\n",
        "else:\n",
        "    print(\"No patch needed.\")\n",
        "\n",
        "!python3 /tmp/patch_typical_sampling.py\n",
        "\n",
        "# Proper install for a pyproject/PEP 517 repo (do NOT run setup.py)\n",
        "!pip3 install -q -e .\n",
        "\n",
        "# Smoke test (both heredoc markers kept inside the same shell command)\n",
        "!python3 - <<'PY'\n",
        "from tortoise.api import TextToSpeech\n",
        "print(\"[OK] tortoise import\")\n",
        "tts = TextToSpeech()\n",
        "print(\"[OK] Tortoise TextToSpeech ready\")"
      ]
    },
    {
      "cell_type": "code",
      "execution_count": null,
      "metadata": {
        "colab": {
          "base_uri": "https://localhost:8080/"
        },
        "id": "5a4afbbd",
        "outputId": "4b056ab9-158a-4f39-f9f0-1be139d54b7e"
      },
      "outputs": [
        {
          "output_type": "stream",
          "name": "stdout",
          "text": [
            "cat: /content/tortoise-tts/tortoise-tts/requirements.txt: No such file or directory\n"
          ]
        }
      ],
      "source": [
        "%cat /content/tortoise-tts/tortoise-tts/requirements.txt"
      ]
    },
    {
      "cell_type": "code",
      "execution_count": null,
      "metadata": {
        "colab": {
          "base_uri": "https://localhost:8080/",
          "height": 371
        },
        "id": "VQgw3KeV8Yqb",
        "outputId": "078cc472-0843-4279-b0df-23f72c48b855"
      },
      "outputs": [
        {
          "output_type": "stream",
          "name": "stdout",
          "text": [
            "Upload long-form audio (any common format). We'll trim, normalize, and split into exact 10s WAVs…\n"
          ]
        },
        {
          "output_type": "display_data",
          "data": {
            "text/plain": [
              "<IPython.core.display.HTML object>"
            ],
            "text/html": [
              "\n",
              "     <input type=\"file\" id=\"files-e50e1190-242a-4b58-a6c8-0bb3de190005\" name=\"files[]\" multiple disabled\n",
              "        style=\"border:none\" />\n",
              "     <output id=\"result-e50e1190-242a-4b58-a6c8-0bb3de190005\">\n",
              "      Upload widget is only available when the cell has been executed in the\n",
              "      current browser session. Please rerun this cell to enable.\n",
              "      </output>\n",
              "      <script>// Copyright 2017 Google LLC\n",
              "//\n",
              "// Licensed under the Apache License, Version 2.0 (the \"License\");\n",
              "// you may not use this file except in compliance with the License.\n",
              "// You may obtain a copy of the License at\n",
              "//\n",
              "//      http://www.apache.org/licenses/LICENSE-2.0\n",
              "//\n",
              "// Unless required by applicable law or agreed to in writing, software\n",
              "// distributed under the License is distributed on an \"AS IS\" BASIS,\n",
              "// WITHOUT WARRANTIES OR CONDITIONS OF ANY KIND, either express or implied.\n",
              "// See the License for the specific language governing permissions and\n",
              "// limitations under the License.\n",
              "\n",
              "/**\n",
              " * @fileoverview Helpers for google.colab Python module.\n",
              " */\n",
              "(function(scope) {\n",
              "function span(text, styleAttributes = {}) {\n",
              "  const element = document.createElement('span');\n",
              "  element.textContent = text;\n",
              "  for (const key of Object.keys(styleAttributes)) {\n",
              "    element.style[key] = styleAttributes[key];\n",
              "  }\n",
              "  return element;\n",
              "}\n",
              "\n",
              "// Max number of bytes which will be uploaded at a time.\n",
              "const MAX_PAYLOAD_SIZE = 100 * 1024;\n",
              "\n",
              "function _uploadFiles(inputId, outputId) {\n",
              "  const steps = uploadFilesStep(inputId, outputId);\n",
              "  const outputElement = document.getElementById(outputId);\n",
              "  // Cache steps on the outputElement to make it available for the next call\n",
              "  // to uploadFilesContinue from Python.\n",
              "  outputElement.steps = steps;\n",
              "\n",
              "  return _uploadFilesContinue(outputId);\n",
              "}\n",
              "\n",
              "// This is roughly an async generator (not supported in the browser yet),\n",
              "// where there are multiple asynchronous steps and the Python side is going\n",
              "// to poll for completion of each step.\n",
              "// This uses a Promise to block the python side on completion of each step,\n",
              "// then passes the result of the previous step as the input to the next step.\n",
              "function _uploadFilesContinue(outputId) {\n",
              "  const outputElement = document.getElementById(outputId);\n",
              "  const steps = outputElement.steps;\n",
              "\n",
              "  const next = steps.next(outputElement.lastPromiseValue);\n",
              "  return Promise.resolve(next.value.promise).then((value) => {\n",
              "    // Cache the last promise value to make it available to the next\n",
              "    // step of the generator.\n",
              "    outputElement.lastPromiseValue = value;\n",
              "    return next.value.response;\n",
              "  });\n",
              "}\n",
              "\n",
              "/**\n",
              " * Generator function which is called between each async step of the upload\n",
              " * process.\n",
              " * @param {string} inputId Element ID of the input file picker element.\n",
              " * @param {string} outputId Element ID of the output display.\n",
              " * @return {!Iterable<!Object>} Iterable of next steps.\n",
              " */\n",
              "function* uploadFilesStep(inputId, outputId) {\n",
              "  const inputElement = document.getElementById(inputId);\n",
              "  inputElement.disabled = false;\n",
              "\n",
              "  const outputElement = document.getElementById(outputId);\n",
              "  outputElement.innerHTML = '';\n",
              "\n",
              "  const pickedPromise = new Promise((resolve) => {\n",
              "    inputElement.addEventListener('change', (e) => {\n",
              "      resolve(e.target.files);\n",
              "    });\n",
              "  });\n",
              "\n",
              "  const cancel = document.createElement('button');\n",
              "  inputElement.parentElement.appendChild(cancel);\n",
              "  cancel.textContent = 'Cancel upload';\n",
              "  const cancelPromise = new Promise((resolve) => {\n",
              "    cancel.onclick = () => {\n",
              "      resolve(null);\n",
              "    };\n",
              "  });\n",
              "\n",
              "  // Wait for the user to pick the files.\n",
              "  const files = yield {\n",
              "    promise: Promise.race([pickedPromise, cancelPromise]),\n",
              "    response: {\n",
              "      action: 'starting',\n",
              "    }\n",
              "  };\n",
              "\n",
              "  cancel.remove();\n",
              "\n",
              "  // Disable the input element since further picks are not allowed.\n",
              "  inputElement.disabled = true;\n",
              "\n",
              "  if (!files) {\n",
              "    return {\n",
              "      response: {\n",
              "        action: 'complete',\n",
              "      }\n",
              "    };\n",
              "  }\n",
              "\n",
              "  for (const file of files) {\n",
              "    const li = document.createElement('li');\n",
              "    li.append(span(file.name, {fontWeight: 'bold'}));\n",
              "    li.append(span(\n",
              "        `(${file.type || 'n/a'}) - ${file.size} bytes, ` +\n",
              "        `last modified: ${\n",
              "            file.lastModifiedDate ? file.lastModifiedDate.toLocaleDateString() :\n",
              "                                    'n/a'} - `));\n",
              "    const percent = span('0% done');\n",
              "    li.appendChild(percent);\n",
              "\n",
              "    outputElement.appendChild(li);\n",
              "\n",
              "    const fileDataPromise = new Promise((resolve) => {\n",
              "      const reader = new FileReader();\n",
              "      reader.onload = (e) => {\n",
              "        resolve(e.target.result);\n",
              "      };\n",
              "      reader.readAsArrayBuffer(file);\n",
              "    });\n",
              "    // Wait for the data to be ready.\n",
              "    let fileData = yield {\n",
              "      promise: fileDataPromise,\n",
              "      response: {\n",
              "        action: 'continue',\n",
              "      }\n",
              "    };\n",
              "\n",
              "    // Use a chunked sending to avoid message size limits. See b/62115660.\n",
              "    let position = 0;\n",
              "    do {\n",
              "      const length = Math.min(fileData.byteLength - position, MAX_PAYLOAD_SIZE);\n",
              "      const chunk = new Uint8Array(fileData, position, length);\n",
              "      position += length;\n",
              "\n",
              "      const base64 = btoa(String.fromCharCode.apply(null, chunk));\n",
              "      yield {\n",
              "        response: {\n",
              "          action: 'append',\n",
              "          file: file.name,\n",
              "          data: base64,\n",
              "        },\n",
              "      };\n",
              "\n",
              "      let percentDone = fileData.byteLength === 0 ?\n",
              "          100 :\n",
              "          Math.round((position / fileData.byteLength) * 100);\n",
              "      percent.textContent = `${percentDone}% done`;\n",
              "\n",
              "    } while (position < fileData.byteLength);\n",
              "  }\n",
              "\n",
              "  // All done.\n",
              "  yield {\n",
              "    response: {\n",
              "      action: 'complete',\n",
              "    }\n",
              "  };\n",
              "}\n",
              "\n",
              "scope.google = scope.google || {};\n",
              "scope.google.colab = scope.google.colab || {};\n",
              "scope.google.colab._files = {\n",
              "  _uploadFiles,\n",
              "  _uploadFilesContinue,\n",
              "};\n",
              "})(self);\n",
              "</script> "
            ]
          },
          "metadata": {}
        },
        {
          "output_type": "stream",
          "name": "stdout",
          "text": [
            "Saving Voice 250930_172523.m4a to Voice 250930_172523.m4a\n"
          ]
        },
        {
          "output_type": "stream",
          "name": "stderr",
          "text": [
            "/tmp/ipython-input-926286703.py:47: UserWarning: PySoundFile failed. Trying audioread instead.\n",
            "  y, sr = librosa.load(str(temp_path), sr=TARGET_SR, mono=True)\n",
            "/usr/local/lib/python3.12/dist-packages/librosa/core/audio.py:184: FutureWarning: librosa.core.audio.__audioread_load\n",
            "\tDeprecated as of librosa version 0.10.0.\n",
            "\tIt will be removed in librosa version 1.0.\n",
            "  y, sr_native = __audioread_load(path, offset, duration, dtype)\n"
          ]
        },
        {
          "output_type": "stream",
          "name": "stdout",
          "text": [
            "\n",
            "Saved 4 WAV chunk(s) into: tortoise/voices/martin\n",
            " - Voice 250930_172523.m4a: made 4, kept 4, source ~0.53 min\n",
            "Examples:\n",
            " - tortoise/voices/martin/000.wav\n",
            " - tortoise/voices/martin/001.wav\n",
            " - tortoise/voices/martin/002.wav\n"
          ]
        }
      ],
      "source": [
        "# /notebooks/voice_preprocess_split.py\n",
        "# Replace your current upload cell with this one.\n",
        "\n",
        "# Minimal deps for robust audio IO in Colab\n",
        "!pip -q install librosa soundfile  >/dev/null\n",
        "\n",
        "from __future__ import annotations\n",
        "import os\n",
        "import re\n",
        "import io\n",
        "from pathlib import Path\n",
        "from typing import Dict, Tuple, List\n",
        "\n",
        "import numpy as np\n",
        "import librosa\n",
        "import soundfile as sf\n",
        "from google.colab import files\n",
        "\n",
        "# --- Config (edit as needed) ---\n",
        "CUSTOM_VOICE_NAME: str = \"martin\"\n",
        "TARGET_SR: int = 22_050         # Tortoise-friendly SR\n",
        "CHUNK_SECONDS: float = 10.0     # exact chunk length\n",
        "TOP_DB: float = 30.0            # silence trim threshold\n",
        "PEAK_TARGET: float = 0.89       # ≈ -1 dBFS\n",
        "MIN_KEEP_SECONDS: float = 3.0   # drop leftover if shorter than this\n",
        "PAD_LAST_SEGMENT: bool = True   # pad last chunk with silence to exact length\n",
        "\n",
        "# --- Helpers ---\n",
        "def _scan_next_index(folder: Path) -> int:\n",
        "    patt = re.compile(r'^(\\d+)\\.wav$', re.IGNORECASE)\n",
        "    idxs = []\n",
        "    for name in os.listdir(folder):\n",
        "        m = patt.match(name)\n",
        "        if m:\n",
        "            idxs.append(int(m.group(1)))\n",
        "    return (max(idxs) + 1) if idxs else 0\n",
        "\n",
        "def _peak_normalize(y: np.ndarray, target_peak: float) -> np.ndarray:\n",
        "    peak = float(np.max(np.abs(y))) if y.size else 0.0\n",
        "    if peak == 0.0:\n",
        "        return y\n",
        "    scale = min(target_peak / peak, 1.0)  # avoid upscaling above target\n",
        "    return (y * scale).astype(np.float32)\n",
        "\n",
        "def _load_mono_resample(temp_path: Path) -> Tuple[np.ndarray, int]:\n",
        "    # librosa handles a wide range; mono=True + resample to TARGET_SR\n",
        "    y, sr = librosa.load(str(temp_path), sr=TARGET_SR, mono=True)\n",
        "    return y.astype(np.float32), TARGET_SR\n",
        "\n",
        "def _trim_silence(y: np.ndarray, top_db: float) -> np.ndarray:\n",
        "    if y.size == 0:\n",
        "        return y\n",
        "    yt, _ = librosa.effects.trim(y, top_db=top_db)\n",
        "    return yt\n",
        "\n",
        "def _split_into_chunks(y: np.ndarray, sr: int, chunk_sec: float) -> List[np.ndarray]:\n",
        "    chunk_len = int(round(chunk_sec * sr))\n",
        "    if y.size == 0:\n",
        "        return []\n",
        "    chunks = []\n",
        "    for start in range(0, len(y), chunk_len):\n",
        "        end = start + chunk_len\n",
        "        seg = y[start:end]\n",
        "        if len(seg) < chunk_len:\n",
        "            if len(seg) < int(MIN_KEEP_SECONDS * sr) and not PAD_LAST_SEGMENT:\n",
        "                continue\n",
        "            if PAD_LAST_SEGMENT:\n",
        "                pad = np.zeros(chunk_len - len(seg), dtype=seg.dtype)  # keep exact length\n",
        "                seg = np.concatenate([seg, pad], axis=0)\n",
        "        chunks.append(seg)\n",
        "    return chunks\n",
        "\n",
        "def _save_chunks(chunks: List[np.ndarray], sr: int, folder: Path, start_idx: int) -> int:\n",
        "    written = 0\n",
        "    idx = start_idx\n",
        "    for seg in chunks:\n",
        "        if len(seg) < int(MIN_KEEP_SECONDS * sr):\n",
        "            # skip too-short segments (quality safeguard)\n",
        "            continue\n",
        "        fname = f\"{idx:03d}.wav\"\n",
        "        out_path = folder / fname\n",
        "        # 16-bit PCM WAV; safer for Tortoise dataset ingestion\n",
        "        sf.write(out_path, seg, sr, subtype=\"PCM_16\")\n",
        "        idx += 1\n",
        "        written += 1\n",
        "    return written\n",
        "\n",
        "# --- Main ---\n",
        "voice_folder = Path(\"tortoise/voices\") / CUSTOM_VOICE_NAME\n",
        "voice_folder.mkdir(parents=True, exist_ok=True)\n",
        "\n",
        "print(f\"Upload long-form audio (any common format). We'll trim, normalize, and split into exact {CHUNK_SECONDS:.0f}s WAVs…\")\n",
        "uploaded: Dict[str, bytes] = files.upload()  # user selects 1+ files\n",
        "\n",
        "total_written = 0\n",
        "next_idx = _scan_next_index(voice_folder)\n",
        "report_rows = []\n",
        "\n",
        "for i, (name, data) in enumerate(uploaded.items()):\n",
        "    # Keep original extension for temp decoding\n",
        "    suffix = Path(name).suffix or \".tmp\"\n",
        "    tmp_path = Path(\"/tmp\") / f\"cc_upload_{i}{suffix}\"\n",
        "    with open(tmp_path, \"wb\") as f:\n",
        "        f.write(data)\n",
        "\n",
        "    # Decode → mono 22.05 kHz\n",
        "    y, sr = _load_mono_resample(tmp_path)\n",
        "\n",
        "    # Trim leading/trailing silence to reduce dead air\n",
        "    y = _trim_silence(y, TOP_DB)\n",
        "\n",
        "    # Normalize near -1 dBFS to avoid clipping across chunks\n",
        "    y = _peak_normalize(y, PEAK_TARGET)\n",
        "\n",
        "    # Chunk and (optionally) pad last to exact 10s\n",
        "    chunks = _split_into_chunks(y, sr, CHUNK_SECONDS)\n",
        "\n",
        "    # Persist as sequentially numbered WAVs\n",
        "    written = _save_chunks(chunks, sr, voice_folder, next_idx)\n",
        "    total_written += written\n",
        "    next_idx += written\n",
        "    duration_min = (len(y) / sr) / 60 if sr else 0\n",
        "    report_rows.append((name, len(chunks), written, f\"{duration_min:.2f} min\"))\n",
        "\n",
        "# Summary\n",
        "print(f\"\\nSaved {total_written} WAV chunk(s) into: {voice_folder}\")\n",
        "for name, made, kept, dur in report_rows:\n",
        "    print(f\" - {name}: made {made}, kept {kept}, source ~{dur}\")\n",
        "print(\"Examples:\", *(sorted(str(p) for p in voice_folder.glob('*.wav'))[:3]), sep=\"\\n - \")"
      ]
    },
    {
      "cell_type": "code",
      "execution_count": null,
      "metadata": {
        "id": "bt_aoxONjfL2"
      },
      "outputs": [],
      "source": [
        "# This is the text that will be spoken.\n",
        "text = 'put words here'\n",
        "\n",
        "# Pick a \"preset mode\" to determine quality. Options: {\"ultra_fast\", \"fast\" (default), \"standard\", \"high_quality\"}. See docs in api.py\n",
        "preset = \"fast\""
      ]
    },
    {
      "cell_type": "code",
      "execution_count": null,
      "metadata": {
        "colab": {
          "base_uri": "https://localhost:8080/"
        },
        "id": "6fd660af",
        "outputId": "c6add355-dcb6-4a3d-cb47-e270cfe62877"
      },
      "outputs": [
        {
          "output_type": "stream",
          "name": "stderr",
          "text": [
            "Some weights of the model checkpoint at jbetker/wav2vec2-large-robust-ft-libritts-voxpopuli were not used when initializing Wav2Vec2ForCTC: ['wav2vec2.encoder.pos_conv_embed.conv.weight_g', 'wav2vec2.encoder.pos_conv_embed.conv.weight_v']\n",
            "- This IS expected if you are initializing Wav2Vec2ForCTC from the checkpoint of a model trained on another task or with another architecture (e.g. initializing a BertForSequenceClassification model from a BertForPreTraining model).\n",
            "- This IS NOT expected if you are initializing Wav2Vec2ForCTC from the checkpoint of a model that you expect to be exactly identical (initializing a BertForSequenceClassification model from a BertForSequenceClassification model).\n",
            "Some weights of Wav2Vec2ForCTC were not initialized from the model checkpoint at jbetker/wav2vec2-large-robust-ft-libritts-voxpopuli and are newly initialized: ['wav2vec2.encoder.pos_conv_embed.conv.parametrizations.weight.original0', 'wav2vec2.encoder.pos_conv_embed.conv.parametrizations.weight.original1']\n",
            "You should probably TRAIN this model on a down-stream task to be able to use it for predictions and inference.\n",
            "/usr/local/lib/python3.12/dist-packages/transformers/tokenization_utils_base.py:1601: FutureWarning: `clean_up_tokenization_spaces` was not set. It will be set to `True` by default. This behavior will be depracted in transformers v4.45, and will be then set to `False` by default. For more details check this issue: https://github.com/huggingface/transformers/issues/31884\n",
            "  warnings.warn(\n"
          ]
        },
        {
          "output_type": "stream",
          "name": "stdout",
          "text": [
            "[torch.load] Stripped 60 legacy attn buffer keys (flat).\n"
          ]
        },
        {
          "output_type": "stream",
          "name": "stderr",
          "text": [
            "/usr/local/lib/python3.12/dist-packages/torch/nn/utils/weight_norm.py:144: FutureWarning: `torch.nn.utils.weight_norm` is deprecated in favor of `torch.nn.utils.parametrizations.weight_norm`.\n",
            "  WeightNorm.apply(module, name, dim)\n"
          ]
        },
        {
          "output_type": "stream",
          "name": "stdout",
          "text": [
            "Tortoise TextToSpeech ready.\n"
          ]
        }
      ],
      "source": [
        "# === Safe Tortoise imports + init (fixes \"Unexpected key(s) in state_dict\") ===\n",
        "import re\n",
        "import contextlib\n",
        "import torch\n",
        "import torchaudio\n",
        "import torch.nn as nn\n",
        "import torch.nn.functional as F\n",
        "import IPython\n",
        "\n",
        "# --- Transformers LogitsWarper compat (safe no-op if already OK) ---\n",
        "try:\n",
        "    from transformers import LogitsWarper  # noqa: F401\n",
        "except Exception:\n",
        "    try:\n",
        "        from transformers.generation.logits_process import LogitsWarper as _LW  # HF 4.x path\n",
        "        import transformers as _tf; setattr(_tf, \"LogitsWarper\", _LW)\n",
        "    except Exception:\n",
        "        class LogitsWarper:  # only to satisfy inheritance if neither path exists\n",
        "            def __call__(self, input_ids, scores):\n",
        "                raise NotImplementedError(\"LogitsWarper unavailable in this transformers build.\")\n",
        "\n",
        "# --- Scoped patches (WHY: limit impact to model load; avoid recursion across cells) ---\n",
        "@contextlib.contextmanager\n",
        "def patch_torch_load_strip_attn():\n",
        "    \"\"\"Strip legacy GPT attention buffer keys that newer modules don't register.\"\"\"\n",
        "    orig = torch.load\n",
        "    pat = re.compile(r\"\\bgpt\\.h\\.\\d+\\.attn\\.(?:bias|masked_bias)\\b\")\n",
        "    def _patched(*args, **kwargs):\n",
        "        obj = orig(*args, **kwargs)\n",
        "        if isinstance(obj, dict):\n",
        "            if \"state_dict\" in obj and isinstance(obj[\"state_dict\"], dict):\n",
        "                sd = obj[\"state_dict\"]\n",
        "                dels = [k for k in list(sd) if pat.search(k)]\n",
        "                for k in dels: del sd[k]\n",
        "                if dels: print(f\"[torch.load] Stripped {len(dels)} legacy attn buffer keys (nested).\")\n",
        "            else:\n",
        "                dels = [k for k in list(obj) if isinstance(k, str) and pat.search(k)]\n",
        "                for k in dels: del obj[k]\n",
        "                if dels: print(f\"[torch.load] Stripped {len(dels)} legacy attn buffer keys (flat).\")\n",
        "        return obj\n",
        "    torch.load = _patched\n",
        "    try:\n",
        "        yield\n",
        "    finally:\n",
        "        torch.load = orig\n",
        "\n",
        "@contextlib.contextmanager\n",
        "def patch_load_state_dict_tolerant():\n",
        "    \"\"\"Retry with strict=False only when 'Unexpected key(s)' occurs.\"\"\"\n",
        "    orig = torch.nn.Module.load_state_dict\n",
        "    def wrapper(self, state_dict, *args, **kwargs):\n",
        "        try:\n",
        "            return orig(self, state_dict, *args, **kwargs)\n",
        "        except RuntimeError as e:\n",
        "            if \"Unexpected key(s) in state_dict\" in str(e) and kwargs.get(\"strict\", True):\n",
        "                kw = dict(kwargs); kw[\"strict\"] = False\n",
        "                print(f\"[load_state_dict] {self.__class__.__name__}: strict=False fallback.\")\n",
        "                return orig(self, state_dict, *args, **kw)\n",
        "            raise\n",
        "    torch.nn.Module.load_state_dict = wrapper\n",
        "    try:\n",
        "        yield\n",
        "    finally:\n",
        "        torch.nn.Module.load_state_dict = orig\n",
        "\n",
        "# --- Import Tortoise AFTER the shims (safe either way, but clearer) ---\n",
        "from tortoise.api import TextToSpeech\n",
        "from tortoise.utils.audio import load_audio, load_voice, load_voices\n",
        "\n",
        "# --- Initialize TTS with scoped patches applied ---\n",
        "with patch_load_state_dict_tolerant(), patch_torch_load_strip_attn():\n",
        "    tts = TextToSpeech()\n",
        "print(\"Tortoise TextToSpeech ready.\")"
      ]
    },
    {
      "cell_type": "code",
      "execution_count": null,
      "metadata": {
        "colab": {
          "base_uri": "https://localhost:8080/",
          "height": 425
        },
        "id": "8y-RzRHu2nZi",
        "outputId": "10d8a6d4-5c7e-4d01-97af-e70ac87aa7b4"
      },
      "outputs": [
        {
          "output_type": "stream",
          "name": "stdout",
          "text": [
            "Generating autoregressive samples..\n"
          ]
        },
        {
          "output_type": "stream",
          "name": "stderr",
          "text": [
            "  0%|          | 0/6 [00:00<?, ?it/s]"
          ]
        },
        {
          "output_type": "stream",
          "name": "stdout",
          "text": [
            "[warn] 'cvvp_amount' unsupported in this build. Retrying without it.\n"
          ]
        },
        {
          "output_type": "stream",
          "name": "stderr",
          "text": [
            "\n"
          ]
        },
        {
          "output_type": "stream",
          "name": "stdout",
          "text": [
            "Generating autoregressive samples..\n"
          ]
        },
        {
          "output_type": "stream",
          "name": "stderr",
          "text": [
            "  0%|          | 0/6 [00:00<?, ?it/s]The attention mask is not set and cannot be inferred from input because pad token is same as eos token. As a consequence, you may observe unexpected behavior. Please pass your input's `attention_mask` to obtain reliable results.\n",
            "100%|██████████| 6/6 [00:28<00:00,  4.69s/it]\n"
          ]
        },
        {
          "output_type": "stream",
          "name": "stdout",
          "text": [
            "Computing best candidates using CLVP and CVVP\n"
          ]
        },
        {
          "output_type": "stream",
          "name": "stderr",
          "text": [
            "\r  0%|          | 0/6 [00:00<?, ?it/s]/usr/local/lib/python3.12/dist-packages/torch/_dynamo/eval_frame.py:929: UserWarning: torch.utils.checkpoint: the use_reentrant parameter should be passed explicitly. In version 2.5 we will raise an exception if use_reentrant is not passed. use_reentrant=False is recommended, but if you need to preserve the current default behavior, you can pass use_reentrant=True. Refer to docs for more details on the differences between the two variants.\n",
            "  return fn(*args, **kwargs)\n",
            "/usr/local/lib/python3.12/dist-packages/torch/utils/checkpoint.py:85: UserWarning: None of the inputs have requires_grad=True. Gradients will be None\n",
            "  warnings.warn(\n",
            "100%|██████████| 6/6 [00:09<00:00,  1.61s/it]\n"
          ]
        },
        {
          "output_type": "stream",
          "name": "stdout",
          "text": [
            "Transforming autoregressive outputs into audio..\n"
          ]
        },
        {
          "output_type": "stream",
          "name": "stderr",
          "text": [
            "100%|██████████| 80/80 [00:05<00:00, 15.82it/s]\n",
            "/usr/local/lib/python3.12/dist-packages/torchaudio/_backend/utils.py:337: UserWarning: In 2.9, this function's implementation will be changed to use torchaudio.save_with_torchcodec` under the hood. Some parameters like format, encoding, bits_per_sample, buffer_size, and ``backend`` will be ignored. We recommend that you port your code to rely directly on TorchCodec's encoder instead: https://docs.pytorch.org/torchcodec/stable/generated/torchcodec.encoders.AudioEncoder\n",
            "  warnings.warn(\n",
            "/usr/local/lib/python3.12/dist-packages/torchaudio/_backend/ffmpeg.py:247: UserWarning: torio.io._streaming_media_encoder.StreamingMediaEncoder has been deprecated. This deprecation is part of a large refactoring effort to transition TorchAudio into a maintenance phase. The decoding and encoding capabilities of PyTorch for both audio and video are being consolidated into TorchCodec. Please see https://github.com/pytorch/audio/issues/3902 for more information. It will be removed from the 2.9 release. \n",
            "  s = torchaudio.io.StreamWriter(uri, format=muxer, buffer_size=buffer_size)\n"
          ]
        },
        {
          "output_type": "stream",
          "name": "stdout",
          "text": [
            "Wrote: tortoise/outputs/martin/generated-martin.wav\n"
          ]
        },
        {
          "output_type": "display_data",
          "data": {
            "text/plain": [
              "<IPython.lib.display.Audio object>"
            ],
            "text/html": [
              "\n",
              "                <audio  controls=\"controls\" >\n",
              "                    <source src=\"data:audio/x-wav;base64,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\" type=\"audio/x-wav\" />\n",
              "                    Your browser does not support the audio element.\n",
              "                </audio>\n",
              "              "
            ]
          },
          "metadata": {}
        }
      ],
      "source": [
        "# /notebooks/tortoise_synthesize_cvvp_fallback.py\n",
        "# Run after your upload/split + TTS init cell (\"Tortoise TextToSpeech ready.\")\n",
        "\n",
        "from pathlib import Path\n",
        "import time\n",
        "import torch\n",
        "import torchaudio\n",
        "from IPython.display import Audio, display\n",
        "\n",
        "# ---- Config (reuses your globals if already set) ----\n",
        "CUSTOM_VOICE_NAME = globals().get(\"CUSTOM_VOICE_NAME\", \"martin\")\n",
        "text = globals().get(\"text\", \"Hello, this is a quick test of my cloned voice using Tortoise.\")\n",
        "PRESET = globals().get(\"PRESET\", \"fast\")          # 'ultra_fast' | 'fast' | 'standard' | 'high_quality'\n",
        "SEED = globals().get(\"SEED\", None)                # set an int for determinism\n",
        "CVVP_AMOUNT = globals().get(\"CVVP_AMOUNT\", 0.0)   # may be unsupported in your build\n",
        "\n",
        "OUT_SR = 24_000\n",
        "OUTPUT_DIR = Path(\"tortoise/outputs\") / CUSTOM_VOICE_NAME\n",
        "OUTPUT_DIR.mkdir(parents=True, exist_ok=True)\n",
        "\n",
        "# ---- Ensure TTS + voice loaded (no re-patching here) ----\n",
        "try:\n",
        "    tts  # noqa: F821\n",
        "except NameError:\n",
        "    from tortoise.api import TextToSpeech\n",
        "    tts = TextToSpeech()\n",
        "\n",
        "try:\n",
        "    voice_samples  # noqa: F821\n",
        "    conditioning_latents  # noqa: F821\n",
        "except NameError:\n",
        "    from tortoise.utils.audio import load_voice\n",
        "    voice_samples, conditioning_latents = load_voice(CUSTOM_VOICE_NAME)\n",
        "\n",
        "# ---- Helpers ----\n",
        "def _ensure_mono_2d(x: torch.Tensor) -> torch.Tensor:\n",
        "    \"\"\"Why: torchaudio.save expects [C, T].\"\"\"\n",
        "    x = x.detach().cpu()\n",
        "    if x.ndim == 1: return x.unsqueeze(0)\n",
        "    if x.ndim == 2: return x.mean(0, keepdim=True) if x.size(0) > 1 else x\n",
        "    if x.ndim == 3: return _ensure_mono_2d(x[0])\n",
        "    raise ValueError(f\"Unexpected audio tensor shape: {tuple(x.shape)}\")\n",
        "\n",
        "def synth_with_cvvp_fallback(txt: str):\n",
        "    base_kwargs = dict(\n",
        "        voice_samples=voice_samples,\n",
        "        conditioning_latents=conditioning_latents,\n",
        "        preset=PRESET,\n",
        "        seed=SEED,\n",
        "    )\n",
        "    # First try with cvvp_amount\n",
        "    try:\n",
        "        return tts.tts_with_preset(txt, **base_kwargs, cvvp_amount=CVVP_AMOUNT)\n",
        "    except ValueError as e:\n",
        "        if \"cvvp_amount\" in str(e):\n",
        "            print(\"[warn] 'cvvp_amount' unsupported in this build. Retrying without it.\")\n",
        "            return tts.tts_with_preset(txt, **base_kwargs)\n",
        "        raise\n",
        "\n",
        "# ---- Synthesize + Save ----\n",
        "gen = synth_with_cvvp_fallback(text)\n",
        "wav = _ensure_mono_2d(gen.squeeze())\n",
        "out_path = OUTPUT_DIR / f\"generated-{CUSTOM_VOICE_NAME}.wav\"\n",
        "torchaudio.save(str(out_path), wav, OUT_SR)\n",
        "print(f\"Wrote: {out_path}\")\n",
        "display(Audio(str(out_path), rate=OUT_SR))"
      ]
    },
    {
      "cell_type": "code",
      "execution_count": null,
      "metadata": {
        "colab": {
          "background_save": true
        },
        "id": "UXZLnuz0ZGYP"
      },
      "outputs": [],
      "source": [
        "# the scipy version packaged with colab is not tolerant of misformated WAV files.\n",
        "# install the latest version.\n",
        "!pip3 install -U scipy\n",
        "\n",
        "!git clone https://github.com/jnordberg/tortoise-tts.git\n",
        "%cd tortoise-tts\n",
        "!pip3 install -r requirements.txt\n",
        "!pip3 install transformers==4.19.0 einops==0.5.0 rotary_embedding_torch==0.1.5 unidecode==1.3.5\n",
        "!python3 setup.py install"
      ]
    }
  ],
  "metadata": {
    "accelerator": "GPU",
    "colab": {
      "gpuType": "T4",
      "provenance": []
    },
    "kernelspec": {
      "display_name": "Python 3",
      "name": "python3"
    },
    "language_info": {
      "name": "python"
    }
  },
  "nbformat": 4,
  "nbformat_minor": 0
}